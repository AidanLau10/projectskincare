{
 "cells": [
  {
   "attachments": {},
   "cell_type": "markdown",
   "metadata": {},
   "source": [
    "---\n",
    "comments: true\n",
    "layout: notebook\n",
    "title: Skincare Shopping\n",
    "description: The idea of a Google Chrome extension that tracks skincare shopping with a timer came from the ideas of all the group members. Aidan used skincare as his project for Web Programming Basics. Rayyan and Nathan used a timer for their Web Pogramming basics. Daniel incorporated a google chrome extension for fried rice. So, after seeing all these scattered ideas, Mr Mortensen suggested that we combine them into one idea.\n",
    "type: hacks\n",
    "courses: { compsci: {week: 0} }\n",
    "---"
   ]
  }
 ],
 "metadata": {
  "kernelspec": {
   "display_name": "Python 3 (ipykernel)",
   "language": "python",
   "name": "python3"
  },
  "language_info": {
   "codemirror_mode": {
    "name": "ipython",
    "version": 3
   },
   "file_extension": ".py",
   "mimetype": "text/x-python",
   "name": "python",
   "nbconvert_exporter": "python",
   "pygments_lexer": "ipython3",
   "version": "3.9.12"
  }
 },
 "nbformat": 4,
 "nbformat_minor": 2
}
